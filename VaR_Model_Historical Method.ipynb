{
 "cells": [
  {
   "cell_type": "code",
   "execution_count": 3,
   "id": "2ba5fdfa",
   "metadata": {},
   "outputs": [],
   "source": [
    "#imports\n",
    "import pandas as pd \n",
    "import numpy as np \n",
    "import datetime as dt\n",
    "import yfinance as yf\n",
    "import matplotlib.pyplot as plt \n",
    "from scipy.stats import norm "
   ]
  },
  {
   "cell_type": "code",
   "execution_count": 6,
   "id": "ecaa2bb4",
   "metadata": {},
   "outputs": [
    {
     "data": {
      "text/plain": [
       "(datetime.datetime(2023, 9, 5, 12, 54, 45, 83027),\n",
       " datetime.datetime(2008, 9, 8, 12, 54, 45, 83027))"
      ]
     },
     "execution_count": 6,
     "metadata": {},
     "output_type": "execute_result"
    }
   ],
   "source": [
    "#set Time -----> Constants\n",
    "\n",
    "years = 15\n",
    "\n",
    "endDate = dt.datetime.now()\n",
    "startDate = endDate - dt.timedelta(days = 365*years)\n",
    "endDate, startDate"
   ]
  },
  {
   "cell_type": "code",
   "execution_count": 8,
   "id": "e763b036",
   "metadata": {},
   "outputs": [
    {
     "name": "stdout",
     "output_type": "stream",
     "text": [
      "[*********************100%***********************]  1 of 1 completed\n",
      "[*********************100%***********************]  1 of 1 completed\n",
      "[*********************100%***********************]  1 of 1 completed\n",
      "[*********************100%***********************]  1 of 1 completed\n"
     ]
    },
    {
     "data": {
      "text/html": [
       "<div>\n",
       "<style scoped>\n",
       "    .dataframe tbody tr th:only-of-type {\n",
       "        vertical-align: middle;\n",
       "    }\n",
       "\n",
       "    .dataframe tbody tr th {\n",
       "        vertical-align: top;\n",
       "    }\n",
       "\n",
       "    .dataframe thead th {\n",
       "        text-align: right;\n",
       "    }\n",
       "</style>\n",
       "<table border=\"1\" class=\"dataframe\">\n",
       "  <thead>\n",
       "    <tr style=\"text-align: right;\">\n",
       "      <th></th>\n",
       "      <th>SPY</th>\n",
       "      <th>BND</th>\n",
       "      <th>GLD</th>\n",
       "      <th>QQQ</th>\n",
       "    </tr>\n",
       "    <tr>\n",
       "      <th>Date</th>\n",
       "      <th></th>\n",
       "      <th></th>\n",
       "      <th></th>\n",
       "      <th></th>\n",
       "    </tr>\n",
       "  </thead>\n",
       "  <tbody>\n",
       "    <tr>\n",
       "      <th>2008-09-08</th>\n",
       "      <td>94.824692</td>\n",
       "      <td>49.743298</td>\n",
       "      <td>78.860001</td>\n",
       "      <td>37.967529</td>\n",
       "    </tr>\n",
       "    <tr>\n",
       "      <th>2008-09-09</th>\n",
       "      <td>92.009613</td>\n",
       "      <td>49.833771</td>\n",
       "      <td>76.489998</td>\n",
       "      <td>37.162148</td>\n",
       "    </tr>\n",
       "    <tr>\n",
       "      <th>2008-09-10</th>\n",
       "      <td>92.382935</td>\n",
       "      <td>49.833771</td>\n",
       "      <td>74.220001</td>\n",
       "      <td>37.468548</td>\n",
       "    </tr>\n",
       "    <tr>\n",
       "      <th>2008-09-11</th>\n",
       "      <td>93.719551</td>\n",
       "      <td>49.801479</td>\n",
       "      <td>73.080002</td>\n",
       "      <td>38.168884</td>\n",
       "    </tr>\n",
       "    <tr>\n",
       "      <th>2008-09-12</th>\n",
       "      <td>94.152664</td>\n",
       "      <td>49.639954</td>\n",
       "      <td>75.550003</td>\n",
       "      <td>38.020077</td>\n",
       "    </tr>\n",
       "    <tr>\n",
       "      <th>...</th>\n",
       "      <td>...</td>\n",
       "      <td>...</td>\n",
       "      <td>...</td>\n",
       "      <td>...</td>\n",
       "    </tr>\n",
       "    <tr>\n",
       "      <th>2023-08-28</th>\n",
       "      <td>442.760010</td>\n",
       "      <td>71.025452</td>\n",
       "      <td>178.130005</td>\n",
       "      <td>366.760010</td>\n",
       "    </tr>\n",
       "    <tr>\n",
       "      <th>2023-08-29</th>\n",
       "      <td>449.160004</td>\n",
       "      <td>71.464249</td>\n",
       "      <td>179.869995</td>\n",
       "      <td>374.769989</td>\n",
       "    </tr>\n",
       "    <tr>\n",
       "      <th>2023-08-30</th>\n",
       "      <td>451.010010</td>\n",
       "      <td>71.434326</td>\n",
       "      <td>180.320007</td>\n",
       "      <td>376.859985</td>\n",
       "    </tr>\n",
       "    <tr>\n",
       "      <th>2023-08-31</th>\n",
       "      <td>450.350006</td>\n",
       "      <td>71.554001</td>\n",
       "      <td>180.020004</td>\n",
       "      <td>377.989990</td>\n",
       "    </tr>\n",
       "    <tr>\n",
       "      <th>2023-09-01</th>\n",
       "      <td>451.190002</td>\n",
       "      <td>71.209999</td>\n",
       "      <td>180.110001</td>\n",
       "      <td>377.589996</td>\n",
       "    </tr>\n",
       "  </tbody>\n",
       "</table>\n",
       "<p>3773 rows × 4 columns</p>\n",
       "</div>"
      ],
      "text/plain": [
       "                   SPY        BND         GLD         QQQ\n",
       "Date                                                     \n",
       "2008-09-08   94.824692  49.743298   78.860001   37.967529\n",
       "2008-09-09   92.009613  49.833771   76.489998   37.162148\n",
       "2008-09-10   92.382935  49.833771   74.220001   37.468548\n",
       "2008-09-11   93.719551  49.801479   73.080002   38.168884\n",
       "2008-09-12   94.152664  49.639954   75.550003   38.020077\n",
       "...                ...        ...         ...         ...\n",
       "2023-08-28  442.760010  71.025452  178.130005  366.760010\n",
       "2023-08-29  449.160004  71.464249  179.869995  374.769989\n",
       "2023-08-30  451.010010  71.434326  180.320007  376.859985\n",
       "2023-08-31  450.350006  71.554001  180.020004  377.989990\n",
       "2023-09-01  451.190002  71.209999  180.110001  377.589996\n",
       "\n",
       "[3773 rows x 4 columns]"
      ]
     },
     "execution_count": 8,
     "metadata": {},
     "output_type": "execute_result"
    }
   ],
   "source": [
    "#List of Tickers\n",
    "tickers = ['SPY', 'BND', 'GLD', 'QQQ']\n",
    "\n",
    "#Download adjusted closed price for each ticker\n",
    "\n",
    "adj_close_df = pd.DataFrame()\n",
    "\n",
    "for ticker in tickers:\n",
    "    data = yf.download(ticker, start = startDate, end = endDate )\n",
    "    adj_close_df[ticker] = data['Adj Close']\n",
    "    \n",
    "adj_close_df"
   ]
  },
  {
   "cell_type": "code",
   "execution_count": 9,
   "id": "fb2c6207",
   "metadata": {},
   "outputs": [
    {
     "data": {
      "text/html": [
       "<div>\n",
       "<style scoped>\n",
       "    .dataframe tbody tr th:only-of-type {\n",
       "        vertical-align: middle;\n",
       "    }\n",
       "\n",
       "    .dataframe tbody tr th {\n",
       "        vertical-align: top;\n",
       "    }\n",
       "\n",
       "    .dataframe thead th {\n",
       "        text-align: right;\n",
       "    }\n",
       "</style>\n",
       "<table border=\"1\" class=\"dataframe\">\n",
       "  <thead>\n",
       "    <tr style=\"text-align: right;\">\n",
       "      <th></th>\n",
       "      <th>SPY</th>\n",
       "      <th>BND</th>\n",
       "      <th>GLD</th>\n",
       "      <th>QQQ</th>\n",
       "    </tr>\n",
       "    <tr>\n",
       "      <th>Date</th>\n",
       "      <th></th>\n",
       "      <th></th>\n",
       "      <th></th>\n",
       "      <th></th>\n",
       "    </tr>\n",
       "  </thead>\n",
       "  <tbody>\n",
       "    <tr>\n",
       "      <th>2008-09-09</th>\n",
       "      <td>-0.030137</td>\n",
       "      <td>0.001817</td>\n",
       "      <td>-0.030514</td>\n",
       "      <td>-0.021441</td>\n",
       "    </tr>\n",
       "    <tr>\n",
       "      <th>2008-09-10</th>\n",
       "      <td>0.004049</td>\n",
       "      <td>0.000000</td>\n",
       "      <td>-0.030126</td>\n",
       "      <td>0.008211</td>\n",
       "    </tr>\n",
       "    <tr>\n",
       "      <th>2008-09-11</th>\n",
       "      <td>0.014365</td>\n",
       "      <td>-0.000648</td>\n",
       "      <td>-0.015479</td>\n",
       "      <td>0.018519</td>\n",
       "    </tr>\n",
       "    <tr>\n",
       "      <th>2008-09-12</th>\n",
       "      <td>0.004611</td>\n",
       "      <td>-0.003249</td>\n",
       "      <td>0.033240</td>\n",
       "      <td>-0.003906</td>\n",
       "    </tr>\n",
       "    <tr>\n",
       "      <th>2008-09-15</th>\n",
       "      <td>-0.048755</td>\n",
       "      <td>0.007520</td>\n",
       "      <td>0.026257</td>\n",
       "      <td>-0.031578</td>\n",
       "    </tr>\n",
       "    <tr>\n",
       "      <th>...</th>\n",
       "      <td>...</td>\n",
       "      <td>...</td>\n",
       "      <td>...</td>\n",
       "      <td>...</td>\n",
       "    </tr>\n",
       "    <tr>\n",
       "      <th>2023-08-28</th>\n",
       "      <td>0.006321</td>\n",
       "      <td>0.001827</td>\n",
       "      <td>0.002867</td>\n",
       "      <td>0.007499</td>\n",
       "    </tr>\n",
       "    <tr>\n",
       "      <th>2023-08-29</th>\n",
       "      <td>0.014351</td>\n",
       "      <td>0.006159</td>\n",
       "      <td>0.009721</td>\n",
       "      <td>0.021605</td>\n",
       "    </tr>\n",
       "    <tr>\n",
       "      <th>2023-08-30</th>\n",
       "      <td>0.004110</td>\n",
       "      <td>-0.000419</td>\n",
       "      <td>0.002499</td>\n",
       "      <td>0.005561</td>\n",
       "    </tr>\n",
       "    <tr>\n",
       "      <th>2023-08-31</th>\n",
       "      <td>-0.001464</td>\n",
       "      <td>0.001674</td>\n",
       "      <td>-0.001665</td>\n",
       "      <td>0.002994</td>\n",
       "    </tr>\n",
       "    <tr>\n",
       "      <th>2023-09-01</th>\n",
       "      <td>0.001863</td>\n",
       "      <td>-0.004819</td>\n",
       "      <td>0.000500</td>\n",
       "      <td>-0.001059</td>\n",
       "    </tr>\n",
       "  </tbody>\n",
       "</table>\n",
       "<p>3772 rows × 4 columns</p>\n",
       "</div>"
      ],
      "text/plain": [
       "                 SPY       BND       GLD       QQQ\n",
       "Date                                              \n",
       "2008-09-09 -0.030137  0.001817 -0.030514 -0.021441\n",
       "2008-09-10  0.004049  0.000000 -0.030126  0.008211\n",
       "2008-09-11  0.014365 -0.000648 -0.015479  0.018519\n",
       "2008-09-12  0.004611 -0.003249  0.033240 -0.003906\n",
       "2008-09-15 -0.048755  0.007520  0.026257 -0.031578\n",
       "...              ...       ...       ...       ...\n",
       "2023-08-28  0.006321  0.001827  0.002867  0.007499\n",
       "2023-08-29  0.014351  0.006159  0.009721  0.021605\n",
       "2023-08-30  0.004110 -0.000419  0.002499  0.005561\n",
       "2023-08-31 -0.001464  0.001674 -0.001665  0.002994\n",
       "2023-09-01  0.001863 -0.004819  0.000500 -0.001059\n",
       "\n",
       "[3772 rows x 4 columns]"
      ]
     },
     "execution_count": 9,
     "metadata": {},
     "output_type": "execute_result"
    }
   ],
   "source": [
    "#Log Returns of each ticker\n",
    "log_returns = np.log(adj_close_df/adj_close_df.shift(1)) #shift 1 \n",
    "log_returns = log_returns.dropna()\n",
    "\n",
    "log_returns"
   ]
  },
  {
   "cell_type": "code",
   "execution_count": 10,
   "id": "f0b026f9",
   "metadata": {},
   "outputs": [
    {
     "data": {
      "text/plain": [
       "array([0.25, 0.25, 0.25, 0.25])"
      ]
     },
     "execution_count": 10,
     "metadata": {},
     "output_type": "execute_result"
    }
   ],
   "source": [
    "#Create an equally weighted portfolio \n",
    "\n",
    "portfolio_value = 1000000\n",
    "weights = np.array([1/len(tickers)] * len(tickers))\n",
    "\n",
    "weights"
   ]
  },
  {
   "cell_type": "code",
   "execution_count": 11,
   "id": "e0116dc5",
   "metadata": {},
   "outputs": [
    {
     "data": {
      "text/plain": [
       "Date\n",
       "2008-09-09   -0.020069\n",
       "2008-09-10   -0.004466\n",
       "2008-09-11    0.004189\n",
       "2008-09-12    0.007674\n",
       "2008-09-15   -0.011639\n",
       "                ...   \n",
       "2023-08-28    0.004629\n",
       "2023-08-29    0.012959\n",
       "2023-08-30    0.002938\n",
       "2023-08-31    0.000385\n",
       "2023-09-01   -0.000879\n",
       "Length: 3772, dtype: float64"
      ]
     },
     "execution_count": 11,
     "metadata": {},
     "output_type": "execute_result"
    }
   ],
   "source": [
    "#Calculate historical portfolio returns \n",
    "\n",
    "historical_returns = (log_returns * weights).sum(axis = 1)\n",
    "historical_returns\n"
   ]
  },
  {
   "cell_type": "code",
   "execution_count": 12,
   "id": "38be5494",
   "metadata": {},
   "outputs": [
    {
     "data": {
      "text/plain": [
       "Date\n",
       "2008-09-15   -0.024311\n",
       "2008-09-16   -0.003068\n",
       "2008-09-17    0.003650\n",
       "2008-09-18    0.003606\n",
       "2008-09-19    0.026185\n",
       "                ...   \n",
       "2023-08-28    0.009607\n",
       "2023-08-29    0.022871\n",
       "2023-08-30    0.014344\n",
       "2023-08-31    0.024273\n",
       "2023-09-01    0.020031\n",
       "Length: 3768, dtype: float64"
      ]
     },
     "execution_count": 12,
     "metadata": {},
     "output_type": "execute_result"
    }
   ],
   "source": [
    "#Find the x-day historical returns \n",
    "\n",
    "days = 5 \n",
    "\n",
    "range_returns = historical_returns.rolling(window = days).sum()\n",
    "range_returns = range_returns.dropna()\n",
    "range_returns"
   ]
  },
  {
   "cell_type": "code",
   "execution_count": 17,
   "id": "5ab5287f",
   "metadata": {},
   "outputs": [
    {
     "data": {
      "text/plain": [
       "24292.79488529979"
      ]
     },
     "execution_count": 17,
     "metadata": {},
     "output_type": "execute_result"
    }
   ],
   "source": [
    "#Specify the confidence interval and calculate VaR using historical method\n",
    "\n",
    "confidence_interval = 0.95\n",
    "\n",
    "VaR = -np.percentile(range_returns, 100 - (confidence_interval * 100)) * portfolio_value\n",
    "\n",
    "#print('{.2f}'.format(VaR))\n",
    "VaR"
   ]
  },
  {
   "cell_type": "code",
   "execution_count": 21,
   "id": "f34b4ad8",
   "metadata": {},
   "outputs": [
    {
     "data": {
      "text/plain": [
       "<function matplotlib.pyplot.show(close=None, block=None)>"
      ]
     },
     "execution_count": 21,
     "metadata": {},
     "output_type": "execute_result"
    },
    {
     "data": {
      "image/png": "[encoded data removed]",
      "text/plain": [
       "<Figure size 640x480 with 1 Axes>"
      ]
     },
     "metadata": {},
     "output_type": "display_data"
    }
   ],
   "source": [
    "#Plot The Result \n",
    "\n",
    "return_window = days \n",
    "range_returns = historical_returns.rolling(window=return_window).sum()\n",
    "range_returns = range_returns.dropna()\n",
    "\n",
    "range_returns_dollar = range_returns * portfolio_value\n",
    "\n",
    "\n",
    "plt.hist(range_returns_dollar.dropna(), bins=50, density=True)\n",
    "plt.xlabel(f'{return_window}-Day Porfolio Return (Dollar Value)')\n",
    "plt.ylabel('Frequency')\n",
    "plt.title(f'Distribution of Porfolio {return_window}-Day Returns (Dollar Value)')\n",
    "plt.axvline(-VaR, color='r', linestyle='dashed', linewidth=2, label=f'VaR at {confidence_interval:.0%} confidence')\n",
    "plt.legend()\n",
    "plt.show"
   ]
  },
  {
   "cell_type": "code",
   "execution_count": null,
   "id": "f65d868b",
   "metadata": {},
   "outputs": [],
   "source": []
  },
  {
   "cell_type": "code",
   "execution_count": null,
   "id": "f609b808",
   "metadata": {},
   "outputs": [],
   "source": []
  },
  {
   "cell_type": "code",
   "execution_count": null,
   "id": "fb3b5504",
   "metadata": {},
   "outputs": [],
   "source": []
  },
  {
   "cell_type": "code",
   "execution_count": null,
   "id": "50378419",
   "metadata": {},
   "outputs": [],
   "source": []
  },
  {
   "cell_type": "code",
   "execution_count": null,
   "id": "cc74ff8e",
   "metadata": {},
   "outputs": [],
   "source": []
  },
  {
   "cell_type": "code",
   "execution_count": null,
   "id": "7b8b81de",
   "metadata": {},
   "outputs": [],
   "source": []
  },
  {
   "cell_type": "code",
   "execution_count": null,
   "id": "58622b85",
   "metadata": {},
   "outputs": [],
   "source": []
  },
  {
   "cell_type": "code",
   "execution_count": null,
   "id": "5e10ae29",
   "metadata": {},
   "outputs": [],
   "source": []
  },
  {
   "cell_type": "code",
   "execution_count": null,
   "id": "847df4cc",
   "metadata": {},
   "outputs": [],
   "source": []
  },
  {
   "cell_type": "code",
   "execution_count": null,
   "id": "231332ac",
   "metadata": {},
   "outputs": [],
   "source": []
  },
  {
   "cell_type": "code",
   "execution_count": null,
   "id": "db314751",
   "metadata": {},
   "outputs": [],
   "source": []
  },
  {
   "cell_type": "code",
   "execution_count": null,
   "id": "0223bcec",
   "metadata": {},
   "outputs": [],
   "source": []
  },
  {
   "cell_type": "code",
   "execution_count": null,
   "id": "180a7230",
   "metadata": {},
   "outputs": [],
   "source": []
  },
  {
   "cell_type": "code",
   "execution_count": null,
   "id": "58b8eeb3",
   "metadata": {},
   "outputs": [],
   "source": []
  },
  {
   "cell_type": "code",
   "execution_count": null,
   "id": "08895535",
   "metadata": {},
   "outputs": [],
   "source": []
  },
  {
   "cell_type": "code",
   "execution_count": null,
   "id": "7b28dc1a",
   "metadata": {},
   "outputs": [],
   "source": []
  },
  {
   "cell_type": "code",
   "execution_count": null,
   "id": "121c99d7",
   "metadata": {},
   "outputs": [],
   "source": []
  },
  {
   "cell_type": "code",
   "execution_count": null,
   "id": "14033853",
   "metadata": {},
   "outputs": [],
   "source": []
  },
  {
   "cell_type": "code",
   "execution_count": null,
   "id": "956cc72e",
   "metadata": {},
   "outputs": [],
   "source": []
  },
  {
   "cell_type": "code",
   "execution_count": null,
   "id": "4a7cabac",
   "metadata": {},
   "outputs": [],
   "source": []
  },
  {
   "cell_type": "code",
   "execution_count": null,
   "id": "f54b7100",
   "metadata": {},
   "outputs": [],
   "source": []
  },
  {
   "cell_type": "code",
   "execution_count": null,
   "id": "1dfedd75",
   "metadata": {},
   "outputs": [],
   "source": []
  }
 ],
 "metadata": {
  "kernelspec": {
   "display_name": "Python 3 (ipykernel)",
   "language": "python",
   "name": "python3"
  },
  "language_info": {
   "codemirror_mode": {
    "name": "ipython",
    "version": 3
   },
   "file_extension": ".py",
   "mimetype": "text/x-python",
   "name": "python",
   "nbconvert_exporter": "python",
   "pygments_lexer": "ipython3",
   "version": "3.10.5"
  }
 },
 "nbformat": 4,
 "nbformat_minor": 5
}
